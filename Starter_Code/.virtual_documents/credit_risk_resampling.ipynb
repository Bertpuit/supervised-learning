


# Import the modules
import numpy as np
import pandas as pd
from pathlib import Path
from sklearn.metrics import balanced_accuracy_score
from sklearn.metrics import confusion_matrix
from imblearn.metrics import classification_report_imbalanced

#import warnings
#warnings.filterwarnings('ignore')











# Read the CSV file from the Resources folder into a Pandas DataFrame

lendding_data_df = pd.read_csv(Path('Resources/lending_data.csv'))
# Review the DataFrame

lendding_data_df.head()





# Separate the data into labels and features

# Separate the y variable, the labels

y = lendding_data_df['loan_status']
# Separate the X variable, the features

X = lendding_data_df.drop(columns = 'loan_status')


# Review the y variable Series

y[:5]


# Review the X variable DataFrame

X[:5]





# Check the balance of our target values

y.value_counts()





# Import the train_test_learn module
from sklearn.model_selection import train_test_split

# Split the data using train_test_split
# Assign a random_state of 1 to the function

X_train, X_test, y_train, y_test = train_test_split(X, y, random_state = 1, stratify = y)











# Import the LogisticRegression module from SKLearn
from sklearn.linear_model import LogisticRegression

# Instantiate the Logistic Regression model
# Assign a random_state parameter of 1 to the model
# YOUR CODE HERE!
logistic_regression_model = LogisticRegression(random_state = 1)
# Fit the model using training data

train_data_model = logistic_regression_model.fit(X_train, y_train)





# Make a prediction using the testing data

testing_predictions = logistic_regression_model.predict(X_test)
testing_predictions





# Print the balanced_accuracy score of the model
from sklearn.metrics import balanced_accuracy_score
balanced_accuracy_score(y_test, testing_predictions)


# Generate a confusion matrix for the model

confusion_matrix(testing_predictions, y_test)


# Print the classification report for the model
from sklearn.metrics import confusion_matrix,classification_report

print(classification_report(testing_predictions, y_test))

















# Import the RandomOverSampler module form imbalanced-learn
from imblearn.over_sampling import RandomOverSampler

# Instantiate the random oversampler model
# # Assign a random_state parameter of 1 to the model

random_oversampler = RandomOverSampler(random_state = 1)

# Fit the original training data to the random_oversampler model

X_resampled, y_resampled = random_oversampler.fit_resample(X_train, y_train)


# Count the distinct values of the resampled labels data

y_resampled.value_counts()





# Instantiate the Logistic Regression model
# Assign a random_state parameter of 1 to the model

logistic_regression_model2 = LogisticRegression(solver = 'lbfgs',random_state = 1)

# Fit the model using the resampled training data

logistic_regression_model2.fit(X_resampled, y_resampled)

# Make a prediction using the testing data

testing_prediction2 = logistic_regression_model2.predict(X_test)
testing_prediction2





# Print the balanced_accuracy score of the model
balanced_accuracy_score = accuracy_score(y_test, testing_prediction2)
print(balanced_accuracy_score)


# Generate a confusion matrix for the model
confusion_matrix(testing_prediction2, y_test)



# Print the classification report for the model

print(classification_report(testing_prediction2, y_test))









